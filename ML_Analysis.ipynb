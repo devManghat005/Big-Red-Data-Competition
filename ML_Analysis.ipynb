{
 "cells": [
  {
   "cell_type": "code",
   "execution_count": 2,
   "id": "1ed59c8d-c562-4e97-9661-8862356593c8",
   "metadata": {},
   "outputs": [],
   "source": [
    "import pandas as pd\n",
    "import numpy as np\n",
    "import matplotlib.pyplot as plt\n",
    "from datetime import timedelta\n",
    "from sklearn.model_selection import train_test_split\n",
    "from xgboost import XGBClassifier\n",
    "from xgboost import plot_importance\n",
    "from sklearn.metrics import classification_report"
   ]
  },
  {
   "cell_type": "code",
   "execution_count": 7,
   "id": "15abacb5-0f1a-4659-b2c7-de2140dcfaf9",
   "metadata": {},
   "outputs": [
    {
     "name": "stdout",
     "output_type": "stream",
     "text": [
      "              precision    recall  f1-score   support\n",
      "\n",
      "           0       0.94      0.96      0.95       407\n",
      "           1       0.84      0.80      0.82       116\n",
      "\n",
      "    accuracy                           0.92       523\n",
      "   macro avg       0.89      0.88      0.88       523\n",
      "weighted avg       0.92      0.92      0.92       523\n",
      "\n"
     ]
    }
   ],
   "source": [
    "# Step 1: Load data\n",
    "df = pd.read_excel(\"Sam's_Fans_All_Transactions_All_Time.xlsx\", parse_dates=[\"Date\"])\n",
    "\n",
    "# Step 2: Sort and engineer features\n",
    "df.sort_values(by=[\"Account Number\", \"Date\"], inplace=True)\n",
    "\n",
    "# Step 3: Create features: total donations, recency, frequency\n",
    "feature_df = df.groupby(\"Account Number\").agg({\n",
    "    \"Date\": [\"min\", \"max\", \"count\"], \n",
    "    \"Revenue Amount\": \"sum\"\n",
    "})\n",
    "feature_df.columns = ['first_donation', 'last_donation', 'frequency', 'total_amount']\n",
    "feature_df['recency_days'] = (df['Date'].max() - feature_df['last_donation']).dt.days\n",
    "\n",
    "# Step 4: Create label: did donor donate again within 90 days after a donation\n",
    "retention_labels = []\n",
    "for acc in df['Account Number'].unique():\n",
    "    dates = df[df[\"Account Number\"] == acc][\"Date\"].sort_values().tolist()\n",
    "    retained = 0\n",
    "    for i in range(len(dates) - 1):\n",
    "        if (dates[i+1] - dates[i]).days <= 90:\n",
    "            retained = 1\n",
    "            break\n",
    "    retention_labels.append(retained)\n",
    "\n",
    "feature_df['retained'] = retention_labels\n",
    "\n",
    "# Step 5: Prepare model data\n",
    "X = feature_df[[\"frequency\", \"total_amount\", \"recency_days\"]]\n",
    "y = feature_df[\"retained\"]\n",
    "\n",
    "# Step 6: Train/test split\n",
    "X_train, X_test, y_train, y_test = train_test_split(X, y, test_size=0.2, random_state=42)\n",
    "\n",
    "# Step 7: Train model\n",
    "model = XGBClassifier(eval_metric='logloss')  # Removed use_label_encoder to fix warning\n",
    "model.fit(X_train, y_train)\n",
    "\n",
    "# Step 8: Evaluate\n",
    "y_pred = model.predict(X_test)\n",
    "print(classification_report(y_test, y_pred))"
   ]
  },
  {
   "cell_type": "code",
   "execution_count": 4,
   "id": "91891988-0d56-4fd5-8f5e-72e954e9773d",
   "metadata": {},
   "outputs": [
    {
     "data": {
      "text/plain": [
       "<Figure size 800x600 with 0 Axes>"
      ]
     },
     "metadata": {},
     "output_type": "display_data"
    },
    {
     "data": {
      "image/png": "[encoded data removed]",
      "text/plain": [
       "<Figure size 640x480 with 1 Axes>"
      ]
     },
     "metadata": {},
     "output_type": "display_data"
    }
   ],
   "source": [
    "import matplotlib.pyplot as plt\n",
    "from xgboost import plot_importance\n",
    "\n",
    "plt.figure(figsize=(8, 6))\n",
    "plot_importance(model)\n",
    "plt.title(\"Feature Importance - Donor Retention Model\")\n",
    "plt.tight_layout()\n",
    "plt.show()\n"
   ]
  },
  {
   "cell_type": "code",
   "execution_count": 10,
   "id": "0a520873-c045-4171-b47b-5a6557dac3ef",
   "metadata": {},
   "outputs": [
    {
     "name": "stdout",
     "output_type": "stream",
     "text": [
      "True Positives (TP): 93\n",
      "False Positives (FP): 18\n",
      "False Negatives (FN): 23\n",
      "True Negatives (TN): 389\n"
     ]
    }
   ],
   "source": [
    "from sklearn.metrics import confusion_matrix\n",
    "\n",
    "# Assuming y_test and y_pred already exist\n",
    "cm = confusion_matrix(y_test, y_pred, labels=[0, 1])  # [[TN, FP], [FN, TP]]\n",
    "\n",
    "# Extract values\n",
    "tn, fp, fn, tp = cm.ravel()\n",
    "\n",
    "print(f\"True Positives (TP): {tp}\")\n",
    "print(f\"False Positives (FP): {fp}\")\n",
    "print(f\"False Negatives (FN): {fn}\")\n",
    "print(f\"True Negatives (TN): {tn}\")\n"
   ]
  },
  {
   "cell_type": "code",
   "execution_count": 6,
   "id": "33fc55f4-e8ad-495c-890f-ae26e1cb7499",
   "metadata": {},
   "outputs": [
    {
     "name": "stdout",
     "output_type": "stream",
     "text": [
      "Sensitivity: 0.80\n",
      "Specificity: 0.96\n"
     ]
    }
   ],
   "source": [
    "def calculate_metrics(TP, TN, FP, FN):\n",
    "    # Sensitivity: True Positive Rate = TP / (TP + FN)\n",
    "    sensitivity = TP / (TP + FN) if (TP + FN) != 0 else 0\n",
    "\n",
    "    # Specificity: True Negative Rate = TN / (TN + FP)\n",
    "    specificity = TN / (TN + FP) if (TN + FP) != 0 else 0\n",
    "\n",
    "    return sensitivity, specificity\n",
    "\n",
    "sensitivity, specificity = calculate_metrics(tp, tn, fp, fn)\n",
    "print(f\"Sensitivity: {sensitivity:.2f}\")\n",
    "print(f\"Specificity: {specificity:.2f}\")\n"
   ]
  }
 ],
 "metadata": {
  "kernelspec": {
   "display_name": "Python 3 (ipykernel)",
   "language": "python",
   "name": "python3"
  },
  "language_info": {
   "codemirror_mode": {
    "name": "ipython",
    "version": 3
   },
   "file_extension": ".py",
   "mimetype": "text/x-python",
   "name": "python",
   "nbconvert_exporter": "python",
   "pygments_lexer": "ipython3",
   "version": "3.11.11"
  }
 },
 "nbformat": 4,
 "nbformat_minor": 5
}
